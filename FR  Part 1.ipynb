{
 "cells": [
  {
   "cell_type": "code",
   "execution_count": 2,
   "metadata": {},
   "outputs": [],
   "source": [
    "import face_recognition\n",
    "import pickle\n",
    "\n",
    "\n",
    "reg_face_encodings = {}\n",
    "\n",
    "karam_image = face_recognition.load_image_file(\"/home/karamveer/Registered/karam.jpg\")\n",
    "reg_face_encodings[\"Karam\"] = face_recognition.face_encodings(karam_image)[0]\n",
    "\n",
    "sarwan_image = face_recognition.load_image_file(\"/home/karamveer/Registered/sarwan.jpg\")\n",
    "reg_face_encodings[\"Sarwan\"] = face_recognition.face_encodings(sarwan_image)[0]\n",
    "\n",
    "parm_image = face_recognition.load_image_file(\"/home/karamveer/Registered/parmk2.jpg\")\n",
    "reg_face_encodings[\"Parminder\"] = face_recognition.face_encodings(parm_image)[0]\n",
    "\n",
    "sukh_image = face_recognition.load_image_file(\"/home/karamveer/Registered/sukh.jpg\")\n",
    "reg_face_encodings[\"Sukh\"] = face_recognition.face_encodings(sukh_image)[0]\n",
    "\n",
    "with open('registered_faces.dat', 'wb') as f:\n",
    "    pickle.dump(reg_face_encodings, f)\n",
    "\n",
    "    \n",
    "    \n",
    "aman_image = face_recognition.load_image_file(\"/home/karamveer/Stranger/aman.jpg\")\n",
    "aman_face_encoding = face_recognition.face_encodings(aman_image)[0]\n",
    "\n",
    "str_face_encodings = [ aman_face_encoding ]\n",
    "\n",
    "with open('stranger_faces.dat', 'wb') as f:\n",
    "    pickle.dump(str_face_encodings, f)"
   ]
  },
  {
   "cell_type": "code",
   "execution_count": null,
   "metadata": {},
   "outputs": [],
   "source": []
  }
 ],
 "metadata": {
  "kernelspec": {
   "display_name": "Python 3",
   "language": "python",
   "name": "python3"
  },
  "language_info": {
   "codemirror_mode": {
    "name": "ipython",
    "version": 3
   },
   "file_extension": ".py",
   "mimetype": "text/x-python",
   "name": "python",
   "nbconvert_exporter": "python",
   "pygments_lexer": "ipython3",
   "version": "3.7.3"
  }
 },
 "nbformat": 4,
 "nbformat_minor": 2
}
